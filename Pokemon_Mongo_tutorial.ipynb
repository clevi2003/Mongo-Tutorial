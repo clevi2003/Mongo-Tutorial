{
 "cells": [
  {
   "cell_type": "code",
   "execution_count": 220,
   "id": "b7fdd729",
   "metadata": {},
   "outputs": [
    {
     "name": "stdout",
     "output_type": "stream",
     "text": [
      "Requirement already satisfied: pymongo in /Users/claudia/opt/anaconda3/lib/python3.8/site-packages (4.3.3)\r\n",
      "Requirement already satisfied: dnspython<3.0.0,>=1.16.0 in /Users/claudia/opt/anaconda3/lib/python3.8/site-packages (from pymongo) (2.3.0)\r\n"
     ]
    }
   ],
   "source": [
    "!pip install pymongo\n",
    "from pymongo import MongoClient\n",
    "import pandas as pd\n",
    "import pprint\n",
    "import matplotlib.pyplot as plt"
   ]
  },
  {
   "cell_type": "code",
   "execution_count": 203,
   "id": "58108007",
   "metadata": {},
   "outputs": [],
   "source": [
    "pokedex = MongoClient().pokemon.pokedex\n",
    "types = MongoClient().pokemon.types"
   ]
  },
  {
   "cell_type": "markdown",
   "id": "bab28c16",
   "metadata": {},
   "source": [
    "One of Mongo's basic functions is just to fetch the data for a given key. For example, let's say I want all of the data for Charizard. I would run the following command:"
   ]
  },
  {
   "cell_type": "code",
   "execution_count": 204,
   "id": "a7557907",
   "metadata": {
    "scrolled": true
   },
   "outputs": [
    {
     "name": "stdout",
     "output_type": "stream",
     "text": [
      "{'_id': ObjectId('63f7f165627b4b80698b7908'),\n",
      " 'base': {'Attack': 84,\n",
      "          'Defense': 78,\n",
      "          'HP': 78,\n",
      "          'Sp': {' Attack': 109, ' Defense': 85},\n",
      "          'Speed': 100},\n",
      " 'id': 6,\n",
      " 'name': [{'language': 'english', 'language name': 'Charizard'},\n",
      "          {'language': 'japanese', 'language name': 'リザードン'},\n",
      "          {'language': 'chinese', 'language name': '喷火龙'},\n",
      "          {'language': 'french', 'language name': 'Dracaufeu'}],\n",
      " 'type': ['Fire', 'Flying']}\n"
     ]
    }
   ],
   "source": [
    "pprint.pprint(pokedex.find_one({'name': {'language':'english', 'language name':'Charizard', }}))"
   ]
  },
  {
   "cell_type": "markdown",
   "id": "f338d5ab",
   "metadata": {},
   "source": [
    "Now, say I want the names of all the pokemon Charizard has a type advantage over. This means I need to know what pokemon have any weakness that exist in Charizard's type. To find those pokeomn, I can run the following commands:  "
   ]
  },
  {
   "cell_type": "code",
   "execution_count": 205,
   "id": "7b17969d",
   "metadata": {},
   "outputs": [
    {
     "name": "stdout",
     "output_type": "stream",
     "text": [
      "['Bulbasaur', 'Ivysaur', 'Venusaur', 'Charmander', 'Charmeleon', 'Charizard', 'Caterpie', 'Metapod', 'Butterfree', 'Weedle', 'Kakuna', 'Beedrill', 'Clefairy', 'Clefable', 'Vulpix']\n"
     ]
    }
   ],
   "source": [
    "char_types = pokedex.find_one({'name': {'language':'english', 'language name':'Charizard', }})['type']\n",
    "weak_types = set()\n",
    "for char_type in char_types:\n",
    "    for weak_type in [name['name'] for name in types.find({'weaknesses': char_type}, {'name': 1})]:\n",
    "        weak_types.add(weak_type)\n",
    "weak_pkmn = [pkmn['name'][0]['language name'] for pkmn in pokedex.find({'type': {'$in': [elem for elem in weak_types]}})]\n",
    "print(weak_pkmn[:15])\n",
    "\n",
    "    "
   ]
  },
  {
   "cell_type": "markdown",
   "id": "c12ea4ba",
   "metadata": {},
   "source": [
    "Now, let's say I want to find all the pokemon Charizard has a type disadvantage to. I need to find pokemon with a type existing in Charizard's weaknesses. To do that, I can use the following command:"
   ]
  },
  {
   "cell_type": "code",
   "execution_count": 206,
   "id": "b14e2686",
   "metadata": {
    "scrolled": true
   },
   "outputs": [
    {
     "name": "stdout",
     "output_type": "stream",
     "text": [
      "['Squirtle', 'Wartortle', 'Blastoise', 'Pikachu', 'Raichu', 'Sandshrew', 'Sandslash', 'Nidoqueen', 'Nidoking', 'Diglett', 'Dugtrio', 'Psyduck', 'Golduck', 'Poliwag', 'Poliwhirl']\n"
     ]
    }
   ],
   "source": [
    "char_types = pokedex.find_one({'name': {'language':'english', 'language name':'Charizard', }})['type']\n",
    "strong_types = set()\n",
    "for char_type in char_types:\n",
    "    for strong_type in [name['name'] for name in types.find({'strengths': char_type}, {'name': 1})]:\n",
    "        strong_types.add(strong_type)\n",
    "strong_pkmn = [pkmn['name'][0]['language name'] for pkmn in pokedex.find({'type': {'$in': [elem for elem in strong_types]}})]\n",
    "print(strong_pkmn[:15])\n"
   ]
  },
  {
   "cell_type": "markdown",
   "id": "38190953",
   "metadata": {},
   "source": [
    "Now for something simpler. Let's say I have a solid pokemon team but I'm missing a Water Type. To get all of the possible water types, I can run the following command:"
   ]
  },
  {
   "cell_type": "code",
   "execution_count": 207,
   "id": "f3503295",
   "metadata": {},
   "outputs": [
    {
     "name": "stdout",
     "output_type": "stream",
     "text": [
      "Squirtle\n",
      "Wartortle\n",
      "Blastoise\n",
      "Psyduck\n",
      "Golduck\n",
      "Poliwag\n",
      "Poliwhirl\n",
      "Poliwrath\n",
      "Tentacool\n",
      "Tentacruel\n",
      "Slowpoke\n",
      "Slowbro\n",
      "Seel\n",
      "Dewgong\n",
      "Shellder\n"
     ]
    }
   ],
   "source": [
    "water_pkmn = pokedex.find({'type': 'Water'})\n",
    "for pkmn in water_pkmn[:15]:\n",
    "    print(pkmn['name'][0]['language name'])"
   ]
  },
  {
   "cell_type": "markdown",
   "id": "c01f888e",
   "metadata": {},
   "source": [
    "Now, Say that I don't just want a water type. I want a water type sweeper, which is a pokemon with high speed and either high special or physical attack stats. So, I can query for water types with high speed and special attack or high speed and physical attack with the following commands:"
   ]
  },
  {
   "cell_type": "code",
   "execution_count": 225,
   "id": "36ab0486",
   "metadata": {},
   "outputs": [
    {
     "name": "stdout",
     "output_type": "stream",
     "text": [
      "{'_id': ObjectId('63f7f165627b4b80698b7aa5'),\n",
      " 'base': {'Attack': 105,\n",
      "          'Defense': 55,\n",
      "          'HP': 85,\n",
      "          'Sp': {' Attack': 85, ' Defense': 50},\n",
      "          'Speed': 115},\n",
      " 'id': 419,\n",
      " 'name': [{'language': 'english', 'language name': 'Floatzel'},\n",
      "          {'language': 'japanese', 'language name': 'フローゼル'},\n",
      "          {'language': 'chinese', 'language name': '浮潜鼬'},\n",
      "          {'language': 'french', 'language name': 'Mustéflott'}],\n",
      " 'type': ['Water']}\n",
      "{'_id': ObjectId('63f7f165627b4b80698b7b89'),\n",
      " 'base': {'Attack': 72,\n",
      "          'Defense': 90,\n",
      "          'HP': 91,\n",
      "          'Sp': {' Attack': 129, ' Defense': 90},\n",
      "          'Speed': 108},\n",
      " 'id': 647,\n",
      " 'name': [{'language': 'english', 'language name': 'Keldeo'},\n",
      "          {'language': 'japanese', 'language name': 'ケルディオ'},\n",
      "          {'language': 'chinese', 'language name': '凯路迪欧'},\n",
      "          {'language': 'french', 'language name': 'Keldeo'}],\n",
      " 'type': ['Water', 'Fighting']}\n",
      "{'_id': ObjectId('63f7f165627b4b80698b7b94'),\n",
      " 'base': {'Attack': 95,\n",
      "          'Defense': 67,\n",
      "          'HP': 72,\n",
      "          'Sp': {' Attack': 103, ' Defense': 71},\n",
      "          'Speed': 122},\n",
      " 'id': 658,\n",
      " 'name': [{'language': 'english', 'language name': 'Greninja'},\n",
      "          {'language': 'japanese', 'language name': 'ゲッコウガ'},\n",
      "          {'language': 'chinese', 'language name': '甲贺忍蛙'},\n",
      "          {'language': 'french', 'language name': 'Amphinobi'}],\n",
      " 'type': ['Water', 'Dark']}\n"
     ]
    }
   ],
   "source": [
    "spc_sweepers = pokedex.find({'$or': [{'base.Attack': {'$gt': 100}}, {'base.Sp. Attack': {'$gt': 100}}], \n",
    "                             'base.Speed': {'$gt': 100}, 'type': 'Water', })\n",
    "\n",
    "\n",
    "for pkmn in spc_sweepers:\n",
    "    pprint.pprint(pkmn)"
   ]
  },
  {
   "cell_type": "markdown",
   "id": "bd1d964a",
   "metadata": {},
   "source": [
    "Now, let's say I'm looking for the best types of pokemon to be a tank. Tanks are pokemon with high HP and either high special defense or defense. To find the pokemon types best suited to be a tank, I can run the following command:"
   ]
  },
  {
   "cell_type": "code",
   "execution_count": 226,
   "id": "8f3df6fe",
   "metadata": {},
   "outputs": [
    {
     "name": "stdout",
     "output_type": "stream",
     "text": [
      "['Steel', 'Rock', 'Dragon', 'Ice', 'Psychic']\n"
     ]
    },
    {
     "data": {
      "image/png": "[encoded data removed]",
      "text/plain": [
       "<Figure size 640x480 with 1 Axes>"
      ]
     },
     "metadata": {},
     "output_type": "display_data"
    }
   ],
   "source": [
    "tank_types = []\n",
    "stat_avgs = {}\n",
    "for elem in pokedex.aggregate([{'$project': {\n",
    "                                            'stat sum': {\n",
    "                                                        '$add':[\n",
    "                                                                '$base.HP',  \n",
    "                                                                '$base.Defense', \n",
    "                                                                '$base.Sp. Defense']}, \n",
    "                                            'type': 1}},\n",
    "                                {'$unwind': '$type'}, \n",
    "                                {'$group': {\n",
    "                                          '_id': '$type', \n",
    "                                          'stat avg': {\n",
    "                                                      '$avg': '$stat sum'}}},\n",
    "                                {'$sort': {\n",
    "                                        'stat avg': -1}}]):\n",
    "    \n",
    "    tank_types.append(elem['_id'])\n",
    "    stat_avgs[elem['_id']] = elem['stat avg']\n",
    "print(tank_types[:5])\n",
    "plt.bar(stat_avgs.keys(), stat_avgs.values())\n",
    "plt.title('Average Tank Stats Across PKMN Types')\n",
    "plt.xlabel('Pokemon Type')\n",
    "plt.ylabel('Average Tank Stats')\n",
    "plt.xticks(rotation=70)\n",
    "plt.savefig('pkmn_tank_stats.png')\n",
    "plt.show()\n",
    "\n"
   ]
  },
  {
   "cell_type": "markdown",
   "id": "78c9d746",
   "metadata": {},
   "source": [
    "There are a few intersting things to note from the above graph. First, normal types are considered excellent tanks in the pokemon community because of their type resistances and representative pokemon like Snorlax and Milktank which are excellent tanks. However, on average, normal type pokemon are ranked very low in terms of their tank stats. Another unexpected thing this graph reveals is that ice type pokemon are surprising good tanks. In thepokemon community, ice types are considered glass cannons because of their type weaknesses and their representation in competitive pokemon gameplay. however, ice types are ranked fourth in terms of their tank stats. "
   ]
  },
  {
   "cell_type": "markdown",
   "id": "696cfb3a",
   "metadata": {},
   "source": [
    "Now let's say I want to find the best tank pokemon for each of those types. To do that, I need to find pokemon of those types with the highest HP, Defense, and Special Defense. To do that, I can run the following commands:"
   ]
  },
  {
   "cell_type": "code",
   "execution_count": 210,
   "id": "f9e02332",
   "metadata": {},
   "outputs": [
    {
     "name": "stdout",
     "output_type": "stream",
     "text": [
      "Giratina\n",
      "Shuckle\n",
      "Registeel\n"
     ]
    }
   ],
   "source": [
    "for elem in pokedex.aggregate([{'$unwind': '$type'},\n",
    "                               {'$match': {\n",
    "                                            'type': {'$in': tank_types[:3]}}},\n",
    "                               {'$project': {'avg tank stat': \n",
    "                                                            {'$avg': [\n",
    "                                                                    '$base.HP', \n",
    "                                                                    '$base.Defense', \n",
    "                                                                    '$base.Sp. Defense']},\n",
    "                                            'type': 1,\n",
    "                                            'name': 1}},\n",
    "                               {'$group': {\n",
    "                                          '_id': '$type',\n",
    "                                          'items': {\n",
    "                                                  '$push': '$$CURRENT'},\n",
    "                                          'max tank stat': {\n",
    "                                                            '$max': '$avg tank stat'}}},\n",
    "                              {'$project': {  \n",
    "                                        'max tank stat': 1, \n",
    "                                        'name': { \n",
    "                                                  '$map': { \n",
    "                                                        'input': { \n",
    "                                                              '$filter': { \n",
    "                                                                        'input': '$items', 'as': 'i', \n",
    "                                                                        'cond': { \n",
    "                                                                               '$eq': [ '$$i.avg tank stat', '$max tank stat' ]}}}, \n",
    "                                                        'in': '$name' }}}}]):\n",
    "    pkmn_type = elem['_id']\n",
    "    pkmn_tank_stat = elem['max tank stat']\n",
    "    for pkmn in pokedex.aggregate([{'$match': {'type': {'$in': [pkmn_type]}}},\n",
    "                      {'$project': {'avg tank stat': \n",
    "                                                            {'$avg': [\n",
    "                                                                    '$base.HP', \n",
    "                                                                    '$base.Defense', \n",
    "                                                                    '$base.Sp. Defense']},\n",
    "                                            'type': 1,\n",
    "                                            'name': 1}},\n",
    "                      {'$match': {'avg tank stat': {'$eq': pkmn_tank_stat}}}]):\n",
    "        print(pkmn['name'][0]['language name'])\n",
    "    \n",
    "    "
   ]
  },
  {
   "cell_type": "markdown",
   "id": "4b69d31b",
   "metadata": {},
   "source": [
    "Let's Say I want to play a game with a team all of one pokemon type, so I want to know the strongest pokemon type on average. To determine that, I need to sum all the pokemon's individual stats, aggregate by type with an agg function of mean, sort the types in descending order of average stats, and then pick the first result. To do that, I can run the following command: "
   ]
  },
  {
   "cell_type": "code",
   "execution_count": 211,
   "id": "7d961326",
   "metadata": {},
   "outputs": [
    {
     "name": "stdout",
     "output_type": "stream",
     "text": [
      "{'_id': 'Dragon', 'stat avg': 496.97777777777776}\n"
     ]
    }
   ],
   "source": [
    "for elem in pokedex.aggregate([{'$project': {\n",
    "                                            'stat sum': {\n",
    "                                                        '$add':[\n",
    "                                                                '$base.HP', \n",
    "                                                                '$base.Speed', \n",
    "                                                                '$base.Attack', \n",
    "                                                                '$base.Defense',\n",
    "                                                                '$base.Sp. Attack', \n",
    "                                                                '$base.Sp. Defense']}, \n",
    "                                            'type': 1}},\n",
    "                                {'$unwind': '$type'}, \n",
    "                                {'$group': {\n",
    "                                          '_id': '$type', \n",
    "                                          'stat avg': {\n",
    "                                                      '$avg': '$stat sum'}}},\n",
    "                                {'$sort': {\n",
    "                                        'stat avg': -1}}, \n",
    "                                {'$limit': 1}]):\n",
    "    \n",
    "    \n",
    "    print(elem)"
   ]
  },
  {
   "cell_type": "markdown",
   "id": "ef600631",
   "metadata": {},
   "source": [
    "Mongo can also insert data programmatically. Let's say the Pokemon Company has introduced a new pokemon type with their latest game. Imagine a frenetic pokemon type that is strong against psychic, dark, and fighting types, weak against normal, bug, and fairy types, and immune to normal types. to insert this new type into the types collection, I can run the following command:"
   ]
  },
  {
   "cell_type": "code",
   "execution_count": 212,
   "id": "b2bb1381",
   "metadata": {},
   "outputs": [
    {
     "name": "stdout",
     "output_type": "stream",
     "text": [
      "{'_id': ObjectId('63f95df48bc87e4668ac8981'),\n",
      " 'immunes': ['Normal'],\n",
      " 'name': 'Frenetic',\n",
      " 'strengths': ['Fighting', 'Psychic', 'Dark'],\n",
      " 'weaknesses': ['Normal', 'Bug', 'Fairy', 'Frenetic']}\n"
     ]
    },
    {
     "data": {
      "text/plain": [
       "[None]"
      ]
     },
     "execution_count": 212,
     "metadata": {},
     "output_type": "execute_result"
    }
   ],
   "source": [
    "types.insert_one({\"name\":\"Frenetic\",\"immunes\":['Normal'],\"weaknesses\":[\"Normal\",\"Bug\",\"Fairy\", 'Frenetic'],\n",
    "                  \"strengths\":[\"Fighting\",\"Psychic\",\"Dark\"]})\n",
    "\n",
    "# to verify it was added to the collection\n",
    "[pprint.pprint(elem) for elem in types.find({'name': 'Frenetic'})]\n"
   ]
  },
  {
   "cell_type": "markdown",
   "id": "4e1741be",
   "metadata": {},
   "source": [
    "The issue with just adding a type is that we have yet to add that type to other type's strengths and weaknesses. To do that, I can run the following commands:"
   ]
  },
  {
   "cell_type": "code",
   "execution_count": 213,
   "id": "5f110622",
   "metadata": {},
   "outputs": [
    {
     "name": "stdout",
     "output_type": "stream",
     "text": [
      "{'_id': ObjectId('63f95d5e627b4b80698b7c3e'),\n",
      " 'immunes': [],\n",
      " 'name': 'Fairy',\n",
      " 'strengths': ['Fighting', 'Dragon', 'Dark', 'Frenetic'],\n",
      " 'weaknesses': ['Fire', 'Poison', 'Steel']}\n",
      "{'_id': ObjectId('63f95d5e627b4b80698b7c33'),\n",
      " 'immunes': ['Ghost'],\n",
      " 'name': 'Fighting',\n",
      " 'strengths': ['Normal', 'Ice', 'Rock', 'Dark', 'Steel'],\n",
      " 'weaknesses': ['Poison', 'Flying', 'Psychic', 'Bug', 'Fairy', 'Frenetic']}\n"
     ]
    },
    {
     "data": {
      "text/plain": [
       "[None]"
      ]
     },
     "execution_count": 213,
     "metadata": {},
     "output_type": "execute_result"
    }
   ],
   "source": [
    "# update other pkmn weaknesses\n",
    "types.update_many({'name': {'$in': types.find_one({'name': 'Frenetic'})['strengths']}}, {'$push': \\\n",
    "                                                                                         {'weaknesses': 'Frenetic'}})\n",
    "\n",
    "# update other pkmn strengths\n",
    "types.update_many({'name': {'$in': types.find_one({'name': 'Frenetic'})['weaknesses']}}, {'$push': \\\n",
    "                                                                                          {'strengths': 'Frenetic'}})\n",
    "\n",
    "# to verify other pkmn were altered, test a fairy type and a fighting type\n",
    "[pprint.pprint(elem) for elem in types.find({'name': 'Fairy'})]\n",
    "[pprint.pprint(elem) for elem in types.find({'name': 'Fighting'})]\n",
    "\n"
   ]
  }
 ],
 "metadata": {
  "kernelspec": {
   "display_name": "Python 3 (ipykernel)",
   "language": "python",
   "name": "python3"
  },
  "language_info": {
   "codemirror_mode": {
    "name": "ipython",
    "version": 3
   },
   "file_extension": ".py",
   "mimetype": "text/x-python",
   "name": "python",
   "nbconvert_exporter": "python",
   "pygments_lexer": "ipython3",
   "version": "3.8.8"
  }
 },
 "nbformat": 4,
 "nbformat_minor": 5
}
